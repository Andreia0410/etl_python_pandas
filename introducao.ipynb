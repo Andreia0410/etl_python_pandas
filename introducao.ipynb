{
 "cells": [
  {
   "cell_type": "markdown",
   "id": "e86c6c51",
   "metadata": {},
   "source": [
    "# Python"
   ]
  },
  {
   "cell_type": "markdown",
   "id": "d4f869be",
   "metadata": {},
   "source": [
    "## Linguagem de programação High Level"
   ]
  },
  {
   "cell_type": "code",
   "execution_count": 12,
   "id": "e96f50e9",
   "metadata": {},
   "outputs": [
    {
     "name": "stdout",
     "output_type": "stream",
     "text": [
      "30\n"
     ]
    }
   ],
   "source": [
    "a=15*2\n",
    "print(a)"
   ]
  },
  {
   "cell_type": "code",
   "execution_count": 13,
   "id": "bf510e1b",
   "metadata": {},
   "outputs": [
    {
     "name": "stdout",
     "output_type": "stream",
     "text": [
      "6\n"
     ]
    }
   ],
   "source": [
    "lista = [2,6,8,9,5]\n",
    "print(lista[1])"
   ]
  },
  {
   "cell_type": "code",
   "execution_count": 14,
   "id": "743d6d66",
   "metadata": {},
   "outputs": [
    {
     "data": {
      "text/plain": [
       "5"
      ]
     },
     "execution_count": 14,
     "metadata": {},
     "output_type": "execute_result"
    }
   ],
   "source": [
    "lista[-1]"
   ]
  },
  {
   "cell_type": "code",
   "execution_count": 15,
   "id": "7a219c5b",
   "metadata": {},
   "outputs": [
    {
     "data": {
      "text/plain": [
       "'lapis'"
      ]
     },
     "execution_count": 15,
     "metadata": {},
     "output_type": "execute_result"
    }
   ],
   "source": [
    "juntos = [2, \"urso\", -2, \"lapis\"]\n",
    "juntos[-1]"
   ]
  },
  {
   "cell_type": "code",
   "execution_count": 38,
   "id": "a01f4e98",
   "metadata": {},
   "outputs": [
    {
     "name": "stdout",
     "output_type": "stream",
     "text": [
      "2 9 6.0 [1.41 2.45 2.83 3.   2.24]\n"
     ]
    }
   ],
   "source": [
    "import numpy as np\n",
    "\n",
    "minimo = min(lista)\n",
    "maximo = max(lista)\n",
    "media = np.mean(lista)\n",
    "raiz = np.sqrt(lista)\n",
    "\n",
    "print(minimo, maximo, media, np.around(raiz, 2))"
   ]
  },
  {
   "cell_type": "code",
   "execution_count": 44,
   "id": "00ac7870",
   "metadata": {},
   "outputs": [],
   "source": [
    "lista.extend([25])"
   ]
  },
  {
   "cell_type": "code",
   "execution_count": 45,
   "id": "adc6f03e",
   "metadata": {},
   "outputs": [
    {
     "data": {
      "text/plain": [
       "[2, 6, 8, 9, 5, [25], 25, 25]"
      ]
     },
     "execution_count": 45,
     "metadata": {},
     "output_type": "execute_result"
    }
   ],
   "source": [
    "lista"
   ]
  },
  {
   "cell_type": "code",
   "execution_count": 49,
   "id": "9021f0ea",
   "metadata": {},
   "outputs": [
    {
     "name": "stdout",
     "output_type": "stream",
     "text": [
      "2\n",
      "6\n",
      "8\n",
      "9\n",
      "5\n",
      "[25]\n",
      "25\n",
      "25\n"
     ]
    }
   ],
   "source": [
    "for i in lista:\n",
    "    print(i)"
   ]
  },
  {
   "cell_type": "code",
   "execution_count": 53,
   "id": "9c9b4c7a",
   "metadata": {},
   "outputs": [
    {
     "name": "stdout",
     "output_type": "stream",
     "text": [
      "A é maior que B\n"
     ]
    }
   ],
   "source": [
    "a = 5\n",
    "b = 3\n",
    "\n",
    "\n",
    "if a > b:\n",
    "    print(\"A é maior que B\")\n",
    "elif b> a:\n",
    "    print(\"A não é maior do B\")\n",
    "else:\n",
    "    print(\"Ambso são iguais\")"
   ]
  },
  {
   "cell_type": "code",
   "execution_count": 54,
   "id": "451bcc6a",
   "metadata": {},
   "outputs": [
    {
     "name": "stdout",
     "output_type": "stream",
     "text": [
      "[467, 78]\n"
     ]
    }
   ],
   "source": [
    "numeros = [67, 89,75, 192, 467, 78]\n",
    "\n",
    "print(numeros[-2:])"
   ]
  },
  {
   "cell_type": "code",
   "execution_count": 57,
   "id": "9e7b9d33",
   "metadata": {},
   "outputs": [
    {
     "data": {
      "text/plain": [
       "<function __main__.calculo(y1, y2)>"
      ]
     },
     "execution_count": 57,
     "metadata": {},
     "output_type": "execute_result"
    }
   ],
   "source": [
    "def calculo(y1, y2):\n",
    "\n",
    "    return np.abs(y1-y2)\n",
    "\n",
    "calculo"
   ]
  },
  {
   "cell_type": "code",
   "execution_count": null,
   "id": "595a495f",
   "metadata": {},
   "outputs": [],
   "source": []
  }
 ],
 "metadata": {
  "kernelspec": {
   "display_name": "Python 3",
   "language": "python",
   "name": "python3"
  },
  "language_info": {
   "codemirror_mode": {
    "name": "ipython",
    "version": 3
   },
   "file_extension": ".py",
   "mimetype": "text/x-python",
   "name": "python",
   "nbconvert_exporter": "python",
   "pygments_lexer": "ipython3",
   "version": "3.8.8"
  }
 },
 "nbformat": 4,
 "nbformat_minor": 5
}
